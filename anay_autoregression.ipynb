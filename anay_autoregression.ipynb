{
  "nbformat": 4,
  "nbformat_minor": 0,
  "metadata": {
    "colab": {
      "provenance": []
    },
    "kernelspec": {
      "name": "python3",
      "display_name": "Python 3"
    },
    "language_info": {
      "name": "python"
    }
  },
  "cells": [
    {
      "cell_type": "code",
      "execution_count": 2,
      "metadata": {
        "colab": {
          "base_uri": "https://localhost:8080/"
        },
        "id": "tAVdmisPqY_S",
        "outputId": "666a7085-6158-475a-f120-6c869ed30ed4"
      },
      "outputs": [
        {
          "output_type": "stream",
          "name": "stdout",
          "text": [
            "{'Symptoms - 1': ['Fever', 'Mild', 'Y'], 'Symptoms - 2': ['Cough', 'Mild', 'N'], 'Symptoms - 3': ['Cold', 'Mild', 'N'], 'Other Symptoms': ['Text', 'Body Ache', 'Shivering', 'Head Ache', 'Nausia', 'Sickness', 'Vertigo', 'Vertigo, Nausia']}\n"
          ]
        }
      ],
      "source": [
        "import pandas as pd\n",
        "\n",
        "# Load your dataset (replace 'your_dataset.csv' with the actual path to your CSV)\n",
        "file_path = '/content/csv_genai.csv'\n",
        "df = pd.read_csv(file_path)\n",
        "\n",
        "# Initialize an empty dictionary to hold symptom values\n",
        "symptoms_dict = {}\n",
        "\n",
        "# Iterate over the dataset to find unique symptoms and their values\n",
        "for column in df.columns:\n",
        "    # Skip non-symptom columns (like Patient_Id, DOB, etc.)\n",
        "    if \"Symptom\" in column or \"Fever\" in column or \"Cough\" in column or \"Cold\" in column:\n",
        "        # Get unique values for the symptom (non-null)\n",
        "        unique_values = df[column].dropna().unique()\n",
        "        # Store in the dictionary\n",
        "        symptoms_dict[column] = list(unique_values)\n",
        "\n",
        "# Print the result\n",
        "print(symptoms_dict)\n"
      ]
    }
  ]
}